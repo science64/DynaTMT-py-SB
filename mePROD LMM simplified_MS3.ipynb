{
 "cells": [
  {
   "cell_type": "code",
   "execution_count": null,
   "metadata": {
    "editable": true,
    "slideshow": {
     "slide_type": ""
    },
    "tags": []
   },
   "outputs": [],
   "source": [
    "# run this once to install the required packages\n",
    "!pip install pandas\n",
    "!pip install numpy\n",
    "!pip install matplotlib\n",
    "!pip install statsmodels\n",
    "!pip install scipy\n",
    "!pip install --upgrade \"git+https://github.com/science64/DynaTMT-py-SB.git\" # Current version: 2.9.2 (2024-06-03)\n",
    "!pip install --upgrade \"git+https://github.com/science64/PBLMM.git\" # Current version: 2.1.1 (2023-10-23)"
   ]
  },
  {
   "cell_type": "code",
   "execution_count": null,
   "metadata": {},
   "outputs": [],
   "source": [
    "# import the required packages\n",
    "\n",
    "from datetime import date\n",
    "import pandas as pd\n",
    "import numpy as np\n",
    "import statsmodels.formula.api as smf\n",
    "import warnings\n",
    "from statsmodels.stats.multitest import multipletests, local_fdr\n",
    "from scipy.stats import zscore, uniform\n",
    "import matplotlib.pyplot as plt\n",
    "import DynaTMT_SB.DynaTMT as mePROD\n",
    "import PBLMM as statisticsGetter\n",
    "\n",
    "warnings.filterwarnings(\"ignore\")"
   ]
  },
  {
   "cell_type": "code",
   "execution_count": null,
   "metadata": {},
   "outputs": [],
   "source": [
    "wd = \"Example data\" # you can define your folder here etc: C://Users/Jasmin/Desktop/JS55/fractionation/\n",
    "\n",
    "nameOfStudy = \"24h_CCCP+ISRIB_SB_import\" # please define a name for your study\n",
    "\n",
    "dataName = \"20200724_SB_CCCP+ISRIB_Import_PSMs.txt\" # please define the name of your data file (PSMs) here\n",
    "\n",
    "conditions = ['Light', 'DMSO', 'DMSO', 'DMSO', 'CCCP', 'CCCP', 'CCCP', 'CCCP_ISRIB', 'CCCP_ISRIB', 'CCCP_ISRIB'] # define the conditions of TMT multiplexing here \n",
    "pairs = [['CCCP', 'DMSO'], ['CCCP_ISRIB', 'DMSO'], ['CCCP_ISRIB', 'CCCP']] # define the pairs of conditions you want to compare here. result will be log2(CCCP/DMSO)"
   ]
  },
  {
   "cell_type": "code",
   "execution_count": null,
   "metadata": {},
   "outputs": [],
   "source": [
    "psms = pd.read_csv(f'{wd}/{dataName}', sep='\\t', header=0) # TEXT or CSV file: you provide your .txt PSM or peptide file here.\n",
    "\n",
    "boster_removed = psms.drop('Abundance: 131C', axis = True) # remove the booster channel if present  (location of the booster Abundance: 131C channel in the data file)\n",
    "baseline_removed = boster_removed.drop('Abundance: 126', axis = True) # remove the baseline channel (location of the baseline Abundance: 126 channel in the data file)\n",
    "\n",
    "process = mePROD.PD_input(baseline_removed) # initiate your date here with PD_input class, if your data name is 'baseline_removed'\n",
    "\n",
    "filter_data = process.filter_PSMs(baseline_removed) # filter contamination, NA samples, shared peptides\n",
    "\n",
    "sumNorm = process.total_intensity_normalisation(filter_data) # for total intenstiy normalization\n",
    "\n",
    "heavy = process.extract_heavy(sumNorm) # extract heavy PSMs/peptides\n",
    "\n",
    "light = process.extract_light(sumNorm) # extract light PSMs/peptides (OPTIONAL)\n",
    "\n",
    "peptide_data = process.PSMs_to_Peptide(heavy) # convert PSMs to Peptide level data\n",
    "\n",
    "# PBLMM analysis ==> this is the main part of the statistical analysis based on peptide based linear mixed model (LMM)\n",
    "hypo = statisticsGetter.HypothesisTesting()\n",
    "resultFinal = hypo.peptide_based_lmm(peptide_data,conditions=conditions,pairs=pairs)\n",
    "resultFinal.reset_index(inplace=True)\n",
    "resultFinal.rename(columns={'index': 'Accession'}, inplace=True)\n",
    "\n",
    "resultFinal.to_excel(f'{nameOfStudy}_mePROD_PBLMM_{date.today().strftime(\"%d.%m.%Y\")}.xlsx', index=False, engine='openpyxl')\n",
    "\n",
    "print('[#] COMPLETED: resultFinal: %s rows x %s columns' % (resultFinal.shape[0], resultFinal.shape[1]))"
   ]
  }
 ],
 "metadata": {
  "kernelspec": {
   "display_name": "Python 3 (ipykernel)",
   "language": "python",
   "name": "python3"
  },
  "language_info": {
   "codemirror_mode": {
    "name": "ipython",
    "version": 3
   },
   "file_extension": ".py",
   "mimetype": "text/x-python",
   "name": "python",
   "nbconvert_exporter": "python",
   "pygments_lexer": "ipython3",
   "version": "3.12.2"
  },
  "metadata": {
   "interpreter": {
    "hash": "73c24c49d2b06808b1ea586578abddabc3a3d1605d247939e4ed8cc5ca9e99d0"
   }
  }
 },
 "nbformat": 4,
 "nbformat_minor": 4
}
